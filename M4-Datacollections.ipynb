{
 "cells": [
  {
   "cell_type": "code",
   "execution_count": 4,
   "id": "53f46299-8ea8-44fc-84c2-521214f1c920",
   "metadata": {},
   "outputs": [
    {
     "name": "stdout",
     "output_type": "stream",
     "text": [
      "This is a long string,\n",
      "This is the second line of the string ,\n",
      "This is the last line of the string\n"
     ]
    }
   ],
   "source": [
    "s = '''This is a long string,\n",
    "This is the second line of the string ,\n",
    "This is the last line of the string'''\n",
    "print(s)"
   ]
  },
  {
   "cell_type": "code",
   "execution_count": 5,
   "id": "e73dbb0d-7469-4ccc-8d31-f22607e92c16",
   "metadata": {},
   "outputs": [
    {
     "data": {
      "text/plain": [
       "3"
      ]
     },
     "execution_count": 5,
     "metadata": {},
     "output_type": "execute_result"
    }
   ],
   "source": [
    "s.count('This')"
   ]
  },
  {
   "cell_type": "code",
   "execution_count": 7,
   "id": "3b6913e9-d244-499d-bff5-9dd7686551c7",
   "metadata": {},
   "outputs": [
    {
     "data": {
      "text/plain": [
       "98"
      ]
     },
     "execution_count": 7,
     "metadata": {},
     "output_type": "execute_result"
    }
   ],
   "source": [
    "len(s)"
   ]
  },
  {
   "cell_type": "code",
   "execution_count": 8,
   "id": "d52cd711-b178-4060-aca9-f01d2334368c",
   "metadata": {},
   "outputs": [
    {
     "data": {
      "text/plain": [
       "12"
      ]
     },
     "execution_count": 8,
     "metadata": {},
     "output_type": "execute_result"
    }
   ],
   "source": [
    "b='Harneet Kaur'\n",
    "len(b)"
   ]
  },
  {
   "cell_type": "code",
   "execution_count": 9,
   "id": "a5c750c0-6c55-415f-bc43-c87254e857cb",
   "metadata": {},
   "outputs": [
    {
     "data": {
      "text/plain": [
       "'rneet Kaur'"
      ]
     },
     "execution_count": 9,
     "metadata": {},
     "output_type": "execute_result"
    }
   ],
   "source": [
    "b[2:14]"
   ]
  },
  {
   "cell_type": "code",
   "execution_count": 10,
   "id": "cc975654-a15e-4b22-803a-34f0dc581471",
   "metadata": {},
   "outputs": [
    {
     "data": {
      "text/plain": [
       "'ruaK te'"
      ]
     },
     "execution_count": 10,
     "metadata": {},
     "output_type": "execute_result"
    }
   ],
   "source": [
    "b[12:4:-1]"
   ]
  },
  {
   "cell_type": "code",
   "execution_count": 11,
   "id": "c648dced-1508-464b-abf4-48ff478955c4",
   "metadata": {},
   "outputs": [
    {
     "data": {
      "text/plain": [
       "'ra ena'"
      ]
     },
     "execution_count": 11,
     "metadata": {},
     "output_type": "execute_result"
    }
   ],
   "source": [
    "b[24::-2]"
   ]
  },
  {
   "cell_type": "code",
   "execution_count": 12,
   "id": "080b56be-6df1-4216-a4c8-30b9a4ff6527",
   "metadata": {},
   "outputs": [
    {
     "data": {
      "text/plain": [
       "'ra ena'"
      ]
     },
     "execution_count": 12,
     "metadata": {},
     "output_type": "execute_result"
    }
   ],
   "source": [
    "b[-1:-20:-2]"
   ]
  },
  {
   "cell_type": "code",
   "execution_count": 13,
   "id": "01f016a4-419e-4d25-9368-f05007038af7",
   "metadata": {},
   "outputs": [],
   "source": [
    "b='Harneet Kaur '"
   ]
  },
  {
   "cell_type": "code",
   "execution_count": 14,
   "id": "c66a6fcf-b634-47d7-a406-5c3d06617108",
   "metadata": {},
   "outputs": [],
   "source": [
    "c='Virdi'"
   ]
  },
  {
   "cell_type": "code",
   "execution_count": 15,
   "id": "580d2f93-8e8f-4c05-95d4-d2db0db3eb3e",
   "metadata": {},
   "outputs": [],
   "source": [
    "a=b+c"
   ]
  },
  {
   "cell_type": "code",
   "execution_count": 16,
   "id": "018ec806-cc88-4d49-be21-49ccd93d7dd4",
   "metadata": {},
   "outputs": [
    {
     "data": {
      "text/plain": [
       "'Harneet Kaur Virdi'"
      ]
     },
     "execution_count": 16,
     "metadata": {},
     "output_type": "execute_result"
    }
   ],
   "source": [
    "a"
   ]
  },
  {
   "cell_type": "code",
   "execution_count": 17,
   "id": "2c40bd32-33ed-4aeb-aa65-49ebc4d2bcfa",
   "metadata": {},
   "outputs": [],
   "source": [
    "age=22"
   ]
  },
  {
   "cell_type": "code",
   "execution_count": 18,
   "id": "fbe14f40-982f-4430-a2a6-1c6f3deccd37",
   "metadata": {},
   "outputs": [
    {
     "name": "stdout",
     "output_type": "stream",
     "text": [
      "Harneet Kaur  is 22 years old\n"
     ]
    }
   ],
   "source": [
    "print(f\"{b} is {age} years old\")"
   ]
  },
  {
   "cell_type": "code",
   "execution_count": 19,
   "id": "552b5416-0bb4-48f7-9cbd-a227efad6723",
   "metadata": {},
   "outputs": [
    {
     "data": {
      "text/plain": [
       "'Harneet K Virdi'"
      ]
     },
     "execution_count": 19,
     "metadata": {},
     "output_type": "execute_result"
    }
   ],
   "source": [
    "a=a.replace(\"Kaur\",\"K\")\n",
    "a"
   ]
  },
  {
   "cell_type": "code",
   "execution_count": 20,
   "id": "1648b919-e01c-45ce-94a0-44d0c065de51",
   "metadata": {},
   "outputs": [
    {
     "data": {
      "text/plain": [
       "['',\n",
       " ' is a long string,\\n',\n",
       " ' is the second line of the string ,\\n',\n",
       " ' is the last line of the string']"
      ]
     },
     "execution_count": 20,
     "metadata": {},
     "output_type": "execute_result"
    }
   ],
   "source": [
    "s1=s.split(\"\\n\")\n",
    "s2=s.split(\"This\")\n",
    "s2"
   ]
  },
  {
   "cell_type": "code",
   "execution_count": 21,
   "id": "48dd198f-4390-418f-98dc-be1350eb8191",
   "metadata": {},
   "outputs": [
    {
     "data": {
      "text/plain": [
       "True"
      ]
     },
     "execution_count": 21,
     "metadata": {},
     "output_type": "execute_result"
    }
   ],
   "source": [
    "x=\"is\" in s\n",
    "x"
   ]
  },
  {
   "cell_type": "code",
   "execution_count": 22,
   "id": "7d37983d-0c2e-4df8-b8a6-582a26748f44",
   "metadata": {},
   "outputs": [
    {
     "data": {
      "text/plain": [
       "'This is a long string,\\nThis is the second line of the string ,\\nThis is the last line of the string'"
      ]
     },
     "execution_count": 22,
     "metadata": {},
     "output_type": "execute_result"
    }
   ],
   "source": [
    "s.strip()"
   ]
  },
  {
   "cell_type": "code",
   "execution_count": 23,
   "id": "c54ab9c8-70b9-40c8-bef5-d4f6be90ce58",
   "metadata": {},
   "outputs": [
    {
     "data": {
      "text/plain": [
       "'this is a long string,\\nthis is the second line of the string ,\\nthis is the last line of the string'"
      ]
     },
     "execution_count": 23,
     "metadata": {},
     "output_type": "execute_result"
    }
   ],
   "source": [
    "s.lower()"
   ]
  },
  {
   "cell_type": "code",
   "execution_count": 24,
   "id": "81001cbe-7693-4a72-aabf-bfff65b453de",
   "metadata": {},
   "outputs": [
    {
     "data": {
      "text/plain": [
       "'THIS IS A LONG STRING,\\nTHIS IS THE SECOND LINE OF THE STRING ,\\nTHIS IS THE LAST LINE OF THE STRING'"
      ]
     },
     "execution_count": 24,
     "metadata": {},
     "output_type": "execute_result"
    }
   ],
   "source": [
    "s.upper()"
   ]
  },
  {
   "cell_type": "code",
   "execution_count": 25,
   "id": "e0dc558a-6e57-45a5-9ad2-2275ad95f90d",
   "metadata": {},
   "outputs": [
    {
     "data": {
      "text/plain": [
       "'This Is A Long String,\\nThis Is The Second Line Of The String ,\\nThis Is The Last Line Of The String'"
      ]
     },
     "execution_count": 25,
     "metadata": {},
     "output_type": "execute_result"
    }
   ],
   "source": [
    "s.title()"
   ]
  },
  {
   "cell_type": "code",
   "execution_count": 26,
   "id": "16b4585d-856c-4d36-ba91-eee3e318ea62",
   "metadata": {},
   "outputs": [
    {
     "data": {
      "text/plain": [
       "False"
      ]
     },
     "execution_count": 26,
     "metadata": {},
     "output_type": "execute_result"
    }
   ],
   "source": [
    "s.istitle()"
   ]
  },
  {
   "cell_type": "code",
   "execution_count": 27,
   "id": "42dfc2ff-8133-42f4-8f1d-8750e00012a8",
   "metadata": {},
   "outputs": [
    {
     "data": {
      "text/plain": [
       "'This is a long string,\\nThis is the second line of the string ,\\nThis is the last line of the string'"
      ]
     },
     "execution_count": 27,
     "metadata": {},
     "output_type": "execute_result"
    }
   ],
   "source": [
    "s\n"
   ]
  },
  {
   "cell_type": "code",
   "execution_count": 28,
   "id": "ce9e6fdf-4db4-4c5a-b8d0-16acba08a024",
   "metadata": {},
   "outputs": [
    {
     "data": {
      "text/plain": [
       "3"
      ]
     },
     "execution_count": 28,
     "metadata": {},
     "output_type": "execute_result"
    }
   ],
   "source": [
    "s.count('string')"
   ]
  },
  {
   "cell_type": "code",
   "execution_count": 29,
   "id": "a13142bf-548a-4bf1-97da-f3ed08afdb69",
   "metadata": {},
   "outputs": [
    {
     "data": {
      "text/plain": [
       "15"
      ]
     },
     "execution_count": 29,
     "metadata": {},
     "output_type": "execute_result"
    }
   ],
   "source": [
    "s.find(\"string\")"
   ]
  },
  {
   "cell_type": "code",
   "execution_count": 30,
   "id": "b4fea792-d94f-4067-9b8a-88cc780228ca",
   "metadata": {},
   "outputs": [
    {
     "data": {
      "text/plain": [
       "False"
      ]
     },
     "execution_count": 30,
     "metadata": {},
     "output_type": "execute_result"
    }
   ],
   "source": [
    "s.isalpha()"
   ]
  },
  {
   "cell_type": "code",
   "execution_count": 31,
   "id": "b3c462b3-bdb4-40cc-aa88-e18655fe3680",
   "metadata": {},
   "outputs": [
    {
     "data": {
      "text/plain": [
       "False"
      ]
     },
     "execution_count": 31,
     "metadata": {},
     "output_type": "execute_result"
    }
   ],
   "source": [
    "s.isalnum()"
   ]
  },
  {
   "cell_type": "code",
   "execution_count": 32,
   "id": "9464791e-32e3-4ece-996c-c6b823966a57",
   "metadata": {},
   "outputs": [
    {
     "data": {
      "text/plain": [
       "False"
      ]
     },
     "execution_count": 32,
     "metadata": {},
     "output_type": "execute_result"
    }
   ],
   "source": [
    "s.isdigit()"
   ]
  },
  {
   "cell_type": "code",
   "execution_count": 33,
   "id": "094fc8af-9242-4536-9615-c0c9367bafc7",
   "metadata": {},
   "outputs": [],
   "source": [
    "l=['zeroth','first','second','third','fourth','fifth']"
   ]
  },
  {
   "cell_type": "code",
   "execution_count": 34,
   "id": "3f53dc2a-e6ed-4986-8a1b-ddbcba5972f1",
   "metadata": {},
   "outputs": [
    {
     "data": {
      "text/plain": [
       "['zeroth', 'first', 'second', 'third', 'fourth', 'fifth']"
      ]
     },
     "execution_count": 34,
     "metadata": {},
     "output_type": "execute_result"
    }
   ],
   "source": [
    "l"
   ]
  },
  {
   "cell_type": "code",
   "execution_count": 35,
   "id": "73254ca2-22f1-4877-af90-50bf9d006ca0",
   "metadata": {},
   "outputs": [
    {
     "data": {
      "text/plain": [
       "'first'"
      ]
     },
     "execution_count": 35,
     "metadata": {},
     "output_type": "execute_result"
    }
   ],
   "source": [
    "l[1]"
   ]
  },
  {
   "cell_type": "code",
   "execution_count": 36,
   "id": "93336af1-dc92-488d-9221-9800d6584d30",
   "metadata": {},
   "outputs": [
    {
     "data": {
      "text/plain": [
       "'fifth'"
      ]
     },
     "execution_count": 36,
     "metadata": {},
     "output_type": "execute_result"
    }
   ],
   "source": [
    "l[-1]"
   ]
  },
  {
   "cell_type": "code",
   "execution_count": 37,
   "id": "b677c868-21f3-40e0-b91a-bec3232fb0a9",
   "metadata": {},
   "outputs": [
    {
     "data": {
      "text/plain": [
       "[]"
      ]
     },
     "execution_count": 37,
     "metadata": {},
     "output_type": "execute_result"
    }
   ],
   "source": [
    "l[-2:-4]"
   ]
  },
  {
   "cell_type": "code",
   "execution_count": 38,
   "id": "11108947-c760-488d-bc30-96ff8d245204",
   "metadata": {},
   "outputs": [
    {
     "data": {
      "text/plain": [
       "['second', 'third', 'fourth']"
      ]
     },
     "execution_count": 38,
     "metadata": {},
     "output_type": "execute_result"
    }
   ],
   "source": [
    "l[-4:-1]"
   ]
  },
  {
   "cell_type": "code",
   "execution_count": 39,
   "id": "391ab5a4-c28e-4b93-aee8-7ec9eff42bf1",
   "metadata": {},
   "outputs": [],
   "source": [
    "l.append('sixth')"
   ]
  },
  {
   "cell_type": "code",
   "execution_count": 40,
   "id": "b3431758-ca25-4745-8176-0bed3358287b",
   "metadata": {},
   "outputs": [
    {
     "data": {
      "text/plain": [
       "['zeroth', 'first', 'second', 'third', 'fourth', 'fifth', 'sixth']"
      ]
     },
     "execution_count": 40,
     "metadata": {},
     "output_type": "execute_result"
    }
   ],
   "source": [
    "l"
   ]
  },
  {
   "cell_type": "code",
   "execution_count": 41,
   "id": "b020965b-9401-4a4e-9adc-4bb67fa20b61",
   "metadata": {},
   "outputs": [],
   "source": [
    "l.extend(l)"
   ]
  },
  {
   "cell_type": "code",
   "execution_count": 42,
   "id": "11884f47-0306-43cb-975f-6e0f604eb830",
   "metadata": {},
   "outputs": [],
   "source": [
    "l.append(l)"
   ]
  },
  {
   "cell_type": "code",
   "execution_count": 43,
   "id": "c6c65dd5-4427-4690-bed1-465663cd9cdc",
   "metadata": {
    "scrolled": true
   },
   "outputs": [
    {
     "data": {
      "text/plain": [
       "['zeroth',\n",
       " 'first',\n",
       " 'second',\n",
       " 'third',\n",
       " 'fourth',\n",
       " 'fifth',\n",
       " 'sixth',\n",
       " 'zeroth',\n",
       " 'first',\n",
       " 'second',\n",
       " 'third',\n",
       " 'fourth',\n",
       " 'fifth',\n",
       " 'sixth',\n",
       " [...]]"
      ]
     },
     "execution_count": 43,
     "metadata": {},
     "output_type": "execute_result"
    }
   ],
   "source": [
    "list(l)\n",
    "l"
   ]
  },
  {
   "cell_type": "code",
   "execution_count": 44,
   "id": "7796b3e3-f2c1-41ac-a66d-2edb7943f449",
   "metadata": {},
   "outputs": [],
   "source": [
    "l1=l[:6]"
   ]
  },
  {
   "cell_type": "code",
   "execution_count": 45,
   "id": "6e0d3592-003c-4f95-ab45-a47142c6658d",
   "metadata": {},
   "outputs": [
    {
     "data": {
      "text/plain": [
       "['zeroth', 'first', 'second', 'third', 'fourth', 'fifth']"
      ]
     },
     "execution_count": 45,
     "metadata": {},
     "output_type": "execute_result"
    }
   ],
   "source": [
    "l1"
   ]
  },
  {
   "cell_type": "code",
   "execution_count": 46,
   "id": "615ff9c6-2136-4edf-9743-f67cf8f657ea",
   "metadata": {},
   "outputs": [],
   "source": [
    "l.clear()"
   ]
  },
  {
   "cell_type": "code",
   "execution_count": 47,
   "id": "72f8e36d-24ce-4731-a61a-980b4c21b438",
   "metadata": {},
   "outputs": [
    {
     "data": {
      "text/plain": [
       "[]"
      ]
     },
     "execution_count": 47,
     "metadata": {},
     "output_type": "execute_result"
    }
   ],
   "source": [
    "l"
   ]
  },
  {
   "cell_type": "code",
   "execution_count": 48,
   "id": "e934da0e-025c-4a0d-b70a-4bb36bccce8c",
   "metadata": {},
   "outputs": [
    {
     "data": {
      "text/plain": [
       "['zeroth', 'first', 'second', 'third', 'fourth', 'fifth']"
      ]
     },
     "execution_count": 48,
     "metadata": {},
     "output_type": "execute_result"
    }
   ],
   "source": [
    "l2=l1.copy()\n",
    "l2"
   ]
  },
  {
   "cell_type": "code",
   "execution_count": 49,
   "id": "1e9349f0-3b65-4fb6-8b92-4f83bf4a887f",
   "metadata": {},
   "outputs": [
    {
     "data": {
      "text/plain": [
       "2"
      ]
     },
     "execution_count": 49,
     "metadata": {},
     "output_type": "execute_result"
    }
   ],
   "source": [
    "l2.index('second')"
   ]
  },
  {
   "cell_type": "code",
   "execution_count": 50,
   "id": "1ad6866f-31cb-487d-bc8c-fce1fbadf43d",
   "metadata": {},
   "outputs": [
    {
     "data": {
      "text/plain": [
       "'fifth'"
      ]
     },
     "execution_count": 50,
     "metadata": {},
     "output_type": "execute_result"
    }
   ],
   "source": [
    "l2.pop()"
   ]
  },
  {
   "cell_type": "code",
   "execution_count": 51,
   "id": "ec3953b7-21b1-4522-9364-853131cfa141",
   "metadata": {},
   "outputs": [
    {
     "data": {
      "text/plain": [
       "['zeroth', 'first', 'second', 'third', 'fourth']"
      ]
     },
     "execution_count": 51,
     "metadata": {},
     "output_type": "execute_result"
    }
   ],
   "source": [
    "l2"
   ]
  },
  {
   "cell_type": "code",
   "execution_count": 52,
   "id": "0b02712b-2f83-48ed-942b-cf3f7c3f2812",
   "metadata": {},
   "outputs": [],
   "source": [
    "l2.remove('first')"
   ]
  },
  {
   "cell_type": "code",
   "execution_count": 53,
   "id": "dea9c9f3-166f-46e0-bebd-fbbea242bad8",
   "metadata": {},
   "outputs": [
    {
     "data": {
      "text/plain": [
       "['zeroth', 'second', 'third', 'fourth']"
      ]
     },
     "execution_count": 53,
     "metadata": {},
     "output_type": "execute_result"
    }
   ],
   "source": [
    "l2"
   ]
  },
  {
   "cell_type": "code",
   "execution_count": 54,
   "id": "ca1b1309-36db-4196-bd93-c75944b6c711",
   "metadata": {},
   "outputs": [],
   "source": [
    "l2.reverse()"
   ]
  },
  {
   "cell_type": "markdown",
   "id": "19ac0c55-9d07-4570-9542-a98ba361d97b",
   "metadata": {},
   "source": [
    "## "
   ]
  },
  {
   "cell_type": "code",
   "execution_count": 55,
   "id": "aa726f9f-d8e1-4612-aed5-3da2cba2f08f",
   "metadata": {},
   "outputs": [
    {
     "data": {
      "text/plain": [
       "['fourth', 'third', 'second', 'zeroth']"
      ]
     },
     "execution_count": 55,
     "metadata": {},
     "output_type": "execute_result"
    }
   ],
   "source": [
    "l2"
   ]
  },
  {
   "cell_type": "code",
   "execution_count": 56,
   "id": "08d6a4ae-55bc-4993-924b-54bfda229fab",
   "metadata": {},
   "outputs": [],
   "source": [
    "l2.insert(6,'seventh')"
   ]
  },
  {
   "cell_type": "code",
   "execution_count": 57,
   "id": "fcfa7c51-914b-456a-a9a0-dcb4a522341d",
   "metadata": {},
   "outputs": [
    {
     "data": {
      "text/plain": [
       "['fourth', 'third', 'second', 'zeroth', 'seventh']"
      ]
     },
     "execution_count": 57,
     "metadata": {},
     "output_type": "execute_result"
    }
   ],
   "source": [
    "l2"
   ]
  },
  {
   "cell_type": "code",
   "execution_count": 58,
   "id": "d0306fee-6198-4ce9-9897-1443ed8ce902",
   "metadata": {},
   "outputs": [
    {
     "data": {
      "text/plain": [
       "('apple', 'banana', 'banana')"
      ]
     },
     "execution_count": 58,
     "metadata": {},
     "output_type": "execute_result"
    }
   ],
   "source": [
    "t=('apple','banana','banana')\n",
    "t"
   ]
  },
  {
   "cell_type": "code",
   "execution_count": 59,
   "id": "3184b283-1bf3-4230-a309-5ac00d6279a8",
   "metadata": {},
   "outputs": [],
   "source": [
    "tl=list(t)\n",
    "tl[2]='orange'\n",
    "t=tuple(tl)"
   ]
  },
  {
   "cell_type": "code",
   "execution_count": 60,
   "id": "d34fd1e7-4bc7-4300-9ebe-5d16408b0390",
   "metadata": {},
   "outputs": [
    {
     "data": {
      "text/plain": [
       "('apple', 'banana', 'orange')"
      ]
     },
     "execution_count": 60,
     "metadata": {},
     "output_type": "execute_result"
    }
   ],
   "source": [
    "t"
   ]
  },
  {
   "cell_type": "code",
   "execution_count": 61,
   "id": "672d20e7-d997-4aa5-8a8e-e2c05939fbc4",
   "metadata": {},
   "outputs": [
    {
     "data": {
      "text/plain": [
       "tuple"
      ]
     },
     "execution_count": 61,
     "metadata": {},
     "output_type": "execute_result"
    }
   ],
   "source": [
    "myapple=('apple',)\n",
    "type(myapple)"
   ]
  },
  {
   "cell_type": "code",
   "execution_count": 62,
   "id": "9a8868b0-03e8-4d35-915a-d9e29b31967e",
   "metadata": {},
   "outputs": [],
   "source": [
    "del myapple"
   ]
  },
  {
   "cell_type": "code",
   "execution_count": 63,
   "id": "d07eb9d2-a6ca-4a12-a5b4-279e008ad317",
   "metadata": {},
   "outputs": [
    {
     "data": {
      "text/plain": [
       "(1, 2, 3, 'apple', 'banana', 'orange')"
      ]
     },
     "execution_count": 63,
     "metadata": {},
     "output_type": "execute_result"
    }
   ],
   "source": [
    "t3=(1,2,3)+t\n",
    "t3"
   ]
  },
  {
   "cell_type": "code",
   "execution_count": 64,
   "id": "79533cc7-65e1-4af2-8d16-7a5789611e9a",
   "metadata": {},
   "outputs": [
    {
     "data": {
      "text/plain": [
       "(1,\n",
       " 2,\n",
       " 3,\n",
       " 'apple',\n",
       " 'banana',\n",
       " 'orange',\n",
       " 1,\n",
       " 2,\n",
       " 3,\n",
       " 'apple',\n",
       " 'banana',\n",
       " 'orange',\n",
       " 1,\n",
       " 2,\n",
       " 3,\n",
       " 'apple',\n",
       " 'banana',\n",
       " 'orange')"
      ]
     },
     "execution_count": 64,
     "metadata": {},
     "output_type": "execute_result"
    }
   ],
   "source": [
    "t3*3"
   ]
  },
  {
   "cell_type": "code",
   "execution_count": 65,
   "id": "f955820e-e48b-457c-bcea-75eea473ef8b",
   "metadata": {},
   "outputs": [
    {
     "data": {
      "text/plain": [
       "{1, 2, 4, 6, 7, 8, 9, 10, 12, 13, 15, 19, 20, 30}"
      ]
     },
     "execution_count": 65,
     "metadata": {},
     "output_type": "execute_result"
    }
   ],
   "source": [
    "s1={9,6,15,4,8,10,13,30,19,2,7,1,12,20}\n",
    "s1"
   ]
  },
  {
   "cell_type": "code",
   "execution_count": 66,
   "id": "983c652b-0390-4c19-bbbc-9cbf1dc9556b",
   "metadata": {},
   "outputs": [],
   "source": [
    "s1.remove(20)"
   ]
  },
  {
   "cell_type": "code",
   "execution_count": 67,
   "id": "caa23912-143d-453c-af10-1654ec08cf6e",
   "metadata": {},
   "outputs": [
    {
     "data": {
      "text/plain": [
       "{1, 2, 4, 6, 7, 8, 9, 10, 12, 13, 15, 19, 30}"
      ]
     },
     "execution_count": 67,
     "metadata": {},
     "output_type": "execute_result"
    }
   ],
   "source": [
    "s1"
   ]
  },
  {
   "cell_type": "code",
   "execution_count": 68,
   "id": "32e68018-23a7-479e-aca7-61e6c4e47a0c",
   "metadata": {},
   "outputs": [],
   "source": [
    "s1.discard(20)"
   ]
  },
  {
   "cell_type": "code",
   "execution_count": 69,
   "id": "e56fce88-4590-40b6-ba46-63c31443e615",
   "metadata": {},
   "outputs": [],
   "source": [
    "s1.discard(21)"
   ]
  },
  {
   "cell_type": "code",
   "execution_count": 70,
   "id": "848547fa-2b02-4a4e-8bfd-1f4abe60b32f",
   "metadata": {},
   "outputs": [
    {
     "data": {
      "text/plain": [
       "{1, 2, 4, 6, 7, 8, 9, 10, 12, 13, 15, 19, 22, 30}"
      ]
     },
     "execution_count": 70,
     "metadata": {},
     "output_type": "execute_result"
    }
   ],
   "source": [
    "s1.add(22)\n",
    "s1"
   ]
  },
  {
   "cell_type": "code",
   "execution_count": 71,
   "id": "bba5797d-05f4-4dbc-8c69-9fdfbd51b944",
   "metadata": {},
   "outputs": [
    {
     "name": "stdout",
     "output_type": "stream",
     "text": [
      "{' apple ', ' orange ', ' cherry ', ' banana '}\n",
      "{' grapes ', ' apple ', ' cherry ', ' mango ', ' orange ', ' banana '}\n",
      "6\n",
      "{' grapes ', ' apple ', ' cherry ', ' mango ', ' orange '}\n"
     ]
    }
   ],
   "source": [
    "myfruits = {\" apple \", \" banana \", \" cherry \"}\n",
    "myfruits.add(\" orange \")\n",
    "print(myfruits)\n",
    "myfruits.update ([\" orange \", \" mango \", \" grapes \"])\n",
    "print(myfruits)\n",
    "print(len(myfruits)) \n",
    "myfruits.remove(\" banana \")\n",
    "print( myfruits )"
   ]
  },
  {
   "cell_type": "code",
   "execution_count": 72,
   "id": "92f98434-d86d-4143-9259-646120b5a864",
   "metadata": {},
   "outputs": [
    {
     "data": {
      "text/plain": [
       "set()"
      ]
     },
     "execution_count": 72,
     "metadata": {},
     "output_type": "execute_result"
    }
   ],
   "source": [
    "myfruits.discard('banana')\n",
    "myfruits.clear()\n",
    "myfruits"
   ]
  },
  {
   "cell_type": "raw",
   "id": "7a72b22f-7182-4788-b1b5-afbf9cdfcea5",
   "metadata": {},
   "source": [
    "myfruits.update(['banana'])\n",
    "myfruits"
   ]
  },
  {
   "cell_type": "raw",
   "id": "56f2a26d-591c-4bb4-a8bf-747651f50a52",
   "metadata": {},
   "source": [
    "w={1,2,3,4,5,6,7}\n",
    "print(w)"
   ]
  },
  {
   "cell_type": "code",
   "execution_count": null,
   "id": "052c8fb6-06da-4dcd-8a44-74e43620653a",
   "metadata": {},
   "outputs": [],
   "source": []
  },
  {
   "cell_type": "code",
   "execution_count": null,
   "id": "c717baa4-cfa4-49dd-a745-a5e96c8aa96d",
   "metadata": {},
   "outputs": [],
   "source": []
  },
  {
   "cell_type": "code",
   "execution_count": null,
   "id": "31ba309d-5401-4ebf-a42b-a4b4151459a1",
   "metadata": {},
   "outputs": [],
   "source": []
  },
  {
   "cell_type": "code",
   "execution_count": null,
   "id": "a646cb56-1365-4485-ac68-99d21c9c9917",
   "metadata": {},
   "outputs": [],
   "source": []
  },
  {
   "cell_type": "code",
   "execution_count": null,
   "id": "4f6b2c07-69cd-4b56-9c8c-bfb1a70cbf8a",
   "metadata": {},
   "outputs": [],
   "source": []
  },
  {
   "cell_type": "code",
   "execution_count": null,
   "id": "f56e0cd5-53fd-42bc-ada1-6b752fcc94a3",
   "metadata": {},
   "outputs": [],
   "source": []
  },
  {
   "cell_type": "code",
   "execution_count": null,
   "id": "51aab0f4-f75b-4a5f-88b8-d4a71aa6efd1",
   "metadata": {},
   "outputs": [],
   "source": []
  },
  {
   "cell_type": "code",
   "execution_count": null,
   "id": "91fa243a-3aa8-4061-9fb8-8af3fca9828f",
   "metadata": {},
   "outputs": [],
   "source": []
  },
  {
   "cell_type": "code",
   "execution_count": null,
   "id": "58d709e3-4a33-4635-8f46-f205bf9736de",
   "metadata": {},
   "outputs": [],
   "source": []
  },
  {
   "cell_type": "code",
   "execution_count": null,
   "id": "8526d36f-c113-4830-8674-1a66858a30a6",
   "metadata": {},
   "outputs": [],
   "source": []
  }
 ],
 "metadata": {
  "kernelspec": {
   "display_name": "Python 3 (ipykernel)",
   "language": "python",
   "name": "python3"
  },
  "language_info": {
   "codemirror_mode": {
    "name": "ipython",
    "version": 3
   },
   "file_extension": ".py",
   "mimetype": "text/x-python",
   "name": "python",
   "nbconvert_exporter": "python",
   "pygments_lexer": "ipython3",
   "version": "3.11.7"
  }
 },
 "nbformat": 4,
 "nbformat_minor": 5
}
