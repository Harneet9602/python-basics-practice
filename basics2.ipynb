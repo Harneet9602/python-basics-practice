{
 "cells": [
  {
   "cell_type": "code",
   "execution_count": 1,
   "id": "33ec1dcd-37c8-4288-9299-721b14d8c7f1",
   "metadata": {},
   "outputs": [],
   "source": [
    "set1={'x','y','z'}\n",
    "set2={1,2,3,4,5}"
   ]
  },
  {
   "cell_type": "code",
   "execution_count": 2,
   "id": "f57b94f7-d5a0-451f-895f-2b2cdf76edcd",
   "metadata": {},
   "outputs": [],
   "source": [
    "set1.add('w')"
   ]
  },
  {
   "cell_type": "code",
   "execution_count": 5,
   "id": "d7ad477b-bb38-4e43-9ef9-4b7fdcefb58e",
   "metadata": {},
   "outputs": [],
   "source": [
    "set3={1,2,6,4,5,7}"
   ]
  },
  {
   "cell_type": "code",
   "execution_count": 9,
   "id": "3c7034bc-f344-4d9b-a537-64cbc81b5cbf",
   "metadata": {},
   "outputs": [
    {
     "data": {
      "text/plain": [
       "{6, 7}"
      ]
     },
     "execution_count": 9,
     "metadata": {},
     "output_type": "execute_result"
    }
   ],
   "source": [
    "set4=set3.difference(set2)\n",
    "set4"
   ]
  },
  {
   "cell_type": "code",
   "execution_count": 10,
   "id": "ce6e9ec4-40a5-4af8-b1c1-abd562c5b75f",
   "metadata": {},
   "outputs": [],
   "source": [
    "set4.clear()"
   ]
  },
  {
   "cell_type": "code",
   "execution_count": 11,
   "id": "3785ae3f-4346-48b3-8778-fd9f235e3490",
   "metadata": {},
   "outputs": [
    {
     "data": {
      "text/plain": [
       "set()"
      ]
     },
     "execution_count": 11,
     "metadata": {},
     "output_type": "execute_result"
    }
   ],
   "source": [
    "set4"
   ]
  },
  {
   "cell_type": "code",
   "execution_count": 12,
   "id": "a30c054b-6b5f-47d5-a872-aa77638c3379",
   "metadata": {},
   "outputs": [],
   "source": [
    "del set4"
   ]
  },
  {
   "cell_type": "code",
   "execution_count": 13,
   "id": "9daeed42-07fe-4ac6-95b1-7d71bcca7503",
   "metadata": {},
   "outputs": [
    {
     "data": {
      "text/plain": [
       "{1, 2, 4, 5, 6, 7}"
      ]
     },
     "execution_count": 13,
     "metadata": {},
     "output_type": "execute_result"
    }
   ],
   "source": [
    "set3"
   ]
  },
  {
   "cell_type": "code",
   "execution_count": 14,
   "id": "18b08886-f4ab-401e-bb68-04cfb362a060",
   "metadata": {},
   "outputs": [
    {
     "data": {
      "text/plain": [
       "{1, 2, 3, 4, 5}"
      ]
     },
     "execution_count": 14,
     "metadata": {},
     "output_type": "execute_result"
    }
   ],
   "source": [
    "set2"
   ]
  },
  {
   "cell_type": "code",
   "execution_count": 24,
   "id": "9b52ef91-662e-4f8e-a23c-49ff17cde985",
   "metadata": {},
   "outputs": [
    {
     "data": {
      "text/plain": [
       "{5}"
      ]
     },
     "execution_count": 24,
     "metadata": {},
     "output_type": "execute_result"
    }
   ],
   "source": [
    "set2.intersection_update({5})\n",
    "set2"
   ]
  },
  {
   "cell_type": "code",
   "execution_count": 16,
   "id": "4a52c909-effe-4b86-8864-54fc4dc84532",
   "metadata": {},
   "outputs": [
    {
     "data": {
      "text/plain": [
       "{1, 2, 3, 4, 5, 6, 7}"
      ]
     },
     "execution_count": 16,
     "metadata": {},
     "output_type": "execute_result"
    }
   ],
   "source": [
    "set2.union(set3)"
   ]
  },
  {
   "cell_type": "code",
   "execution_count": 19,
   "id": "0a6210f4-104b-4093-a004-58e658ddb2f2",
   "metadata": {},
   "outputs": [
    {
     "data": {
      "text/plain": [
       "False"
      ]
     },
     "execution_count": 19,
     "metadata": {},
     "output_type": "execute_result"
    }
   ],
   "source": [
    "set2.isdisjoint({4,6,8,9})"
   ]
  },
  {
   "cell_type": "code",
   "execution_count": 25,
   "id": "bc0e0cad-1961-4b4d-8d37-6520556daf34",
   "metadata": {},
   "outputs": [
    {
     "data": {
      "text/plain": [
       "True"
      ]
     },
     "execution_count": 25,
     "metadata": {},
     "output_type": "execute_result"
    }
   ],
   "source": [
    "set2.issubset(set3)"
   ]
  },
  {
   "cell_type": "code",
   "execution_count": 26,
   "id": "de3165b7-3fd8-451b-97cd-3976deb98cdb",
   "metadata": {},
   "outputs": [
    {
     "data": {
      "text/plain": [
       "True"
      ]
     },
     "execution_count": 26,
     "metadata": {},
     "output_type": "execute_result"
    }
   ],
   "source": [
    "set3.issuperset(set2)"
   ]
  },
  {
   "cell_type": "code",
   "execution_count": 30,
   "id": "3f10e947-3d5c-45c3-8f72-2767a670c4d9",
   "metadata": {},
   "outputs": [
    {
     "data": {
      "text/plain": [
       "1"
      ]
     },
     "execution_count": 30,
     "metadata": {},
     "output_type": "execute_result"
    }
   ],
   "source": [
    "set3.pop()"
   ]
  },
  {
   "cell_type": "code",
   "execution_count": 31,
   "id": "3c8d3fc4-6deb-4360-89b9-3466fdfbd0f6",
   "metadata": {},
   "outputs": [
    {
     "data": {
      "text/plain": [
       "{2, 4, 5, 6, 7}"
      ]
     },
     "execution_count": 31,
     "metadata": {},
     "output_type": "execute_result"
    }
   ],
   "source": [
    "set3"
   ]
  },
  {
   "cell_type": "code",
   "execution_count": 32,
   "id": "2a045928-bcfa-4fbe-abef-5063eca2e719",
   "metadata": {},
   "outputs": [],
   "source": [
    "set3.remove(7)"
   ]
  },
  {
   "cell_type": "code",
   "execution_count": 33,
   "id": "a71881d0-d6b7-4146-b53d-ad7b83d5b942",
   "metadata": {},
   "outputs": [
    {
     "data": {
      "text/plain": [
       "{2, 4, 5, 6}"
      ]
     },
     "execution_count": 33,
     "metadata": {},
     "output_type": "execute_result"
    }
   ],
   "source": [
    "set3"
   ]
  },
  {
   "cell_type": "code",
   "execution_count": 39,
   "id": "c96e9004-4621-49b3-8942-9404798b8323",
   "metadata": {},
   "outputs": [],
   "source": [
    "set2=set2.union({1,3,4,5,2,4})"
   ]
  },
  {
   "cell_type": "code",
   "execution_count": 40,
   "id": "7804d9e2-0968-4522-8f7b-bdfc7c01ea66",
   "metadata": {},
   "outputs": [],
   "source": [
    "set1.update(set2)"
   ]
  },
  {
   "cell_type": "code",
   "execution_count": 41,
   "id": "96697de7-2913-4566-a20f-db96b2f4d77a",
   "metadata": {},
   "outputs": [
    {
     "data": {
      "text/plain": [
       "{1, 2, 3, 4, 5, 'w', 'x', 'y', 'z'}"
      ]
     },
     "execution_count": 41,
     "metadata": {},
     "output_type": "execute_result"
    }
   ],
   "source": [
    "set1"
   ]
  },
  {
   "cell_type": "code",
   "execution_count": 83,
   "id": "59a1fc65-77f9-4d0b-ab09-3e3a8815383e",
   "metadata": {},
   "outputs": [],
   "source": [
    "fac={\n",
    "    \"Python\":{\"Name\":\"Prasad\",\"Age\":40,\"Exp\":\"17\"},\n",
    "    \"DBMS\":{\"Name\":\"Prajeesh\",\"Age\":34,\"Exp\":\"13\"},\n",
    "    \"AI\":{\"Name\":\"Gayatri\",\"Age\":30,\"Exp\":\"4\"},\n",
    "    \"Probability\":{\"Name\":\"Jisha\",\"Age\":31,\"Exp\":\"9\"},\n",
    "    \"Algebra\":{\"Name\":\"Rushi\",\"Age\":51,\"Exp\":\"30\"}\n",
    "    }"
   ]
  },
  {
   "cell_type": "code",
   "execution_count": 84,
   "id": "7fa2770b-89ee-4f4b-b60b-83a8c7c3417a",
   "metadata": {},
   "outputs": [
    {
     "data": {
      "text/plain": [
       "{'Python': {'Name': 'Prasad', 'Age': 40, 'Exp': '17'},\n",
       " 'DBMS': {'Name': 'Prajeesh', 'Age': 34, 'Exp': '13'},\n",
       " 'AI': {'Name': 'Gayatri', 'Age': 30, 'Exp': '4'},\n",
       " 'Probability': {'Name': 'Jisha', 'Age': 31, 'Exp': '9'},\n",
       " 'Algebra': {'Name': 'Rushi', 'Age': 51, 'Exp': '30'}}"
      ]
     },
     "execution_count": 84,
     "metadata": {},
     "output_type": "execute_result"
    }
   ],
   "source": [
    "fac"
   ]
  },
  {
   "cell_type": "code",
   "execution_count": 85,
   "id": "2c8abdb7-47b9-433a-9c10-801413905f06",
   "metadata": {},
   "outputs": [
    {
     "data": {
      "text/plain": [
       "dict_items([('Python', {'Name': 'Prasad', 'Age': 40, 'Exp': '17'}), ('DBMS', {'Name': 'Prajeesh', 'Age': 34, 'Exp': '13'}), ('AI', {'Name': 'Gayatri', 'Age': 30, 'Exp': '4'}), ('Probability', {'Name': 'Jisha', 'Age': 31, 'Exp': '9'}), ('Algebra', {'Name': 'Rushi', 'Age': 51, 'Exp': '30'})])"
      ]
     },
     "execution_count": 85,
     "metadata": {},
     "output_type": "execute_result"
    }
   ],
   "source": [
    "fac.items()"
   ]
  },
  {
   "cell_type": "code",
   "execution_count": null,
   "id": "078cce3a-0f33-4fc3-8743-0f21eee7d76c",
   "metadata": {},
   "outputs": [],
   "source": []
  },
  {
   "cell_type": "code",
   "execution_count": 86,
   "id": "617310ca-0aec-40da-b894-60f908e0bdc6",
   "metadata": {},
   "outputs": [
    {
     "name": "stdout",
     "output_type": "stream",
     "text": [
      "('Python', {'Name': 'Prasad', 'Age': 40, 'Exp': '17'})\n",
      "('DBMS', {'Name': 'Prajeesh', 'Age': 34, 'Exp': '13'})\n",
      "('AI', {'Name': 'Gayatri', 'Age': 30, 'Exp': '4'})\n",
      "('Probability', {'Name': 'Jisha', 'Age': 31, 'Exp': '9'})\n",
      "('Algebra', {'Name': 'Rushi', 'Age': 51, 'Exp': '30'})\n"
     ]
    }
   ],
   "source": [
    "for i in fac.items():\n",
    "    print(i)"
   ]
  },
  {
   "cell_type": "code",
   "execution_count": 87,
   "id": "964a118f-244f-4a57-9193-2bdd04e0825a",
   "metadata": {},
   "outputs": [
    {
     "name": "stdout",
     "output_type": "stream",
     "text": [
      "Python\n",
      "DBMS\n",
      "AI\n",
      "Probability\n",
      "Algebra\n"
     ]
    }
   ],
   "source": [
    "for i in fac.keys():\n",
    "    print(i)"
   ]
  },
  {
   "cell_type": "code",
   "execution_count": 93,
   "id": "e1856c03-a046-447a-87c7-4f94148ace4e",
   "metadata": {},
   "outputs": [
    {
     "name": "stdout",
     "output_type": "stream",
     "text": [
      "The faculty are: \n",
      "\n",
      "{'Name': 'Prasad', 'Age': 40, 'Exp': '17'}\n",
      "{'Name': 'Prajeesh', 'Age': 34, 'Exp': '13'}\n",
      "{'Name': 'Gayatri', 'Age': 30, 'Exp': '4'}\n",
      "{'Name': 'Jisha', 'Age': 31, 'Exp': '9'}\n",
      "{'Name': 'Rushi', 'Age': 51, 'Exp': '30'}\n",
      "Rushi\n"
     ]
    }
   ],
   "source": [
    "print(\"The faculty are: \\n\")\n",
    "for i in fac.values():\n",
    "    print(i)"
   ]
  },
  {
   "cell_type": "code",
   "execution_count": null,
   "id": "1fd1640f-ba93-4a0d-8b16-e64cca875529",
   "metadata": {},
   "outputs": [],
   "source": []
  },
  {
   "cell_type": "code",
   "execution_count": 94,
   "id": "649a934e-cbd3-4151-b117-0628cb94e764",
   "metadata": {},
   "outputs": [
    {
     "data": {
      "text/plain": [
       "{'Python': {'Name': 'Prasad', 'Age': 40, 'Exp': '17'},\n",
       " 'DBMS': {'Name': 'Prajeesh', 'Age': 34, 'Exp': '13'},\n",
       " 'AI': {'Name': 'Gayatri', 'Age': 30, 'Exp': '4'},\n",
       " 'Probability': {'Name': 'Jisha', 'Age': 31, 'Exp': '9'},\n",
       " 'Algebra': {'Name': 'Rushi', 'Age': 51, 'Exp': '30'},\n",
       " 'LA': 'Rushi'}"
      ]
     },
     "execution_count": 94,
     "metadata": {},
     "output_type": "execute_result"
    }
   ],
   "source": [
    "fac"
   ]
  },
  {
   "cell_type": "code",
   "execution_count": 95,
   "id": "d9eb7cf7-aa08-41d2-a3c5-d55b3ada39fe",
   "metadata": {},
   "outputs": [
    {
     "data": {
      "text/plain": [
       "{'Name': 'Prajeesh', 'Age': 34, 'Exp': '13'}"
      ]
     },
     "execution_count": 95,
     "metadata": {},
     "output_type": "execute_result"
    }
   ],
   "source": [
    "fac['DBMS']"
   ]
  },
  {
   "cell_type": "code",
   "execution_count": 96,
   "id": "9061f5a0-8620-4243-9991-7bc4e9d5ab08",
   "metadata": {},
   "outputs": [
    {
     "data": {
      "text/plain": [
       "30"
      ]
     },
     "execution_count": 96,
     "metadata": {},
     "output_type": "execute_result"
    }
   ],
   "source": [
    "fac['AI']['Age']"
   ]
  },
  {
   "cell_type": "code",
   "execution_count": 97,
   "id": "364260ca-4c07-4e7c-b1b1-d0ee4d38e263",
   "metadata": {},
   "outputs": [],
   "source": [
    "fac['LA']=' '"
   ]
  },
  {
   "cell_type": "code",
   "execution_count": 98,
   "id": "02109717-5cdf-4ac7-84c9-89a112144b73",
   "metadata": {},
   "outputs": [
    {
     "data": {
      "text/plain": [
       "{'Python': {'Name': 'Prasad', 'Age': 40, 'Exp': '17'},\n",
       " 'DBMS': {'Name': 'Prajeesh', 'Age': 34, 'Exp': '13'},\n",
       " 'AI': {'Name': 'Gayatri', 'Age': 30, 'Exp': '4'},\n",
       " 'Probability': {'Name': 'Jisha', 'Age': 31, 'Exp': '9'},\n",
       " 'Algebra': {'Name': 'Rushi', 'Age': 51, 'Exp': '30'},\n",
       " 'LA': ' '}"
      ]
     },
     "execution_count": 98,
     "metadata": {},
     "output_type": "execute_result"
    }
   ],
   "source": [
    "fac"
   ]
  },
  {
   "cell_type": "code",
   "execution_count": 99,
   "id": "dbd0324f-1082-45cd-9cfb-264305627d73",
   "metadata": {},
   "outputs": [],
   "source": [
    "del fac['LA']"
   ]
  },
  {
   "cell_type": "code",
   "execution_count": 100,
   "id": "dd34bd93-14cb-463e-87cc-1ba13e3ba773",
   "metadata": {},
   "outputs": [
    {
     "data": {
      "text/plain": [
       "{'Python': {'Name': 'Prasad', 'Age': 40, 'Exp': '17'},\n",
       " 'DBMS': {'Name': 'Prajeesh', 'Age': 34, 'Exp': '13'},\n",
       " 'AI': {'Name': 'Gayatri', 'Age': 30, 'Exp': '4'},\n",
       " 'Probability': {'Name': 'Jisha', 'Age': 31, 'Exp': '9'},\n",
       " 'Algebra': {'Name': 'Rushi', 'Age': 51, 'Exp': '30'}}"
      ]
     },
     "execution_count": 100,
     "metadata": {},
     "output_type": "execute_result"
    }
   ],
   "source": [
    "fac"
   ]
  },
  {
   "cell_type": "code",
   "execution_count": 113,
   "id": "b871c1a7-6023-411a-89d9-4d335473047a",
   "metadata": {},
   "outputs": [
    {
     "data": {
      "text/plain": [
       "'Rushi'"
      ]
     },
     "execution_count": 113,
     "metadata": {},
     "output_type": "execute_result"
    }
   ],
   "source": [
    "fac['Algebra']['Name']"
   ]
  },
  {
   "cell_type": "code",
   "execution_count": 122,
   "id": "8ddb0cf4-418d-47a1-8774-8cdd0c104e08",
   "metadata": {},
   "outputs": [
    {
     "name": "stdout",
     "output_type": "stream",
     "text": [
      "[0, 1, 4, 9, 16, 25, 36, 49, 64, 81]\n",
      "[0, 1, 4, 9, 16, 25, 36, 49, 64, 81]\n"
     ]
    }
   ],
   "source": [
    "s=[]\n",
    "for x in range(10):\n",
    "    s.append(x**2)\n",
    "print(s)\n",
    "s1=[x**2 for x in range(10)]\n",
    "print(s1)"
   ]
  },
  {
   "cell_type": "code",
   "execution_count": 124,
   "id": "260ca93b-e760-476e-99ac-9ddd72da7c5b",
   "metadata": {},
   "outputs": [
    {
     "name": "stdout",
     "output_type": "stream",
     "text": [
      "[1, 2, 4, 8, 16, 32, 64, 128, 256, 512, 1024, 2048, 4096]\n"
     ]
    },
    {
     "data": {
      "text/plain": [
       "[1, 2, 4, 8, 16, 32, 64, 128, 256, 512, 1024, 2048, 4096]"
      ]
     },
     "execution_count": 124,
     "metadata": {},
     "output_type": "execute_result"
    }
   ],
   "source": [
    "v=[]\n",
    "for i in range(13):\n",
    "    v.append(2**i)\n",
    "print(v)\n",
    "s2=[2**x for x in range(13)]\n",
    "s2"
   ]
  },
  {
   "cell_type": "code",
   "execution_count": 125,
   "id": "fb89b7ee-6247-4b63-947c-7c737ac8bb62",
   "metadata": {},
   "outputs": [
    {
     "name": "stdout",
     "output_type": "stream",
     "text": [
      "[0, 4, 16, 36, 64]\n"
     ]
    },
    {
     "data": {
      "text/plain": [
       "[0, 4, 16, 36, 64]"
      ]
     },
     "execution_count": 125,
     "metadata": {},
     "output_type": "execute_result"
    }
   ],
   "source": [
    "m=[]\n",
    "for x in s:\n",
    "    if x%2==0:\n",
    "        m.append(x)\n",
    "print(m)\n",
    "\n",
    "s3=[x for x in s1 if x%2==0]\n",
    "s3"
   ]
  },
  {
   "cell_type": "code",
   "execution_count": 130,
   "id": "eb8aa8bc-7d87-40a4-8818-be953659f5a2",
   "metadata": {},
   "outputs": [
    {
     "name": "stdout",
     "output_type": "stream",
     "text": [
      "[1, 2, 3, 4]\n",
      "[5, 6, 7, 8]\n",
      "[9, 10, 11, 12]\n",
      "[13, 14, 15, 16]\n"
     ]
    }
   ],
   "source": [
    "p=[[1+i+4*j for i in range(4)] for j in range(4)]\n",
    "for rows in p:\n",
    "    print(rows)"
   ]
  },
  {
   "cell_type": "code",
   "execution_count": 131,
   "id": "35cfd552-9af1-44e5-8bc1-970749a51c8f",
   "metadata": {},
   "outputs": [
    {
     "data": {
      "text/plain": [
       "{0, 1, 8, 27, 64, 125}"
      ]
     },
     "execution_count": 131,
     "metadata": {},
     "output_type": "execute_result"
    }
   ],
   "source": [
    "setc={i**3 for i in range(6)}\n",
    "setc"
   ]
  },
  {
   "cell_type": "code",
   "execution_count": 139,
   "id": "c9954387-e1c9-4a95-b579-e1cd7ac132cc",
   "metadata": {},
   "outputs": [
    {
     "data": {
      "text/plain": [
       "dict_items([(0, 0), (1, 1), (2, 4), (3, 9), (4, 16), (5, 25), (6, 36), (7, 49), (8, 64), (9, 81), (10, 100), (11, 121), (12, 144), (13, 169), (14, 196), (15, 225), (16, 256), (17, 289), (18, 324), (19, 361), (20, 400)])"
      ]
     },
     "execution_count": 139,
     "metadata": {},
     "output_type": "execute_result"
    }
   ],
   "source": [
    "dict={i:i**2 for i in range(21)}\n",
    "dict.keys()\n",
    "dict.items()"
   ]
  },
  {
   "cell_type": "code",
   "execution_count": 140,
   "id": "b9691427-8687-4b13-8786-c6ca5d15a6ce",
   "metadata": {},
   "outputs": [
    {
     "name": "stdout",
     "output_type": "stream",
     "text": [
      "1 1\n",
      "1 3\n",
      "2 2\n",
      "2 4\n",
      "3 3\n",
      "3 5\n",
      "4 4\n",
      "4 6\n",
      "5 5\n",
      "5 7\n",
      "6 6\n",
      "6 8\n",
      "7 7\n",
      "7 9\n",
      "8 8\n",
      "8 10\n",
      "9 9\n",
      "9 11\n"
     ]
    }
   ],
   "source": [
    "for x in range(1,10):\n",
    "    for y in (x,x+2):\n",
    "        print(x,y)"
   ]
  },
  {
   "cell_type": "code",
   "execution_count": 141,
   "id": "e0a37226-37d1-4856-8d0d-0fc0a370d2e3",
   "metadata": {},
   "outputs": [
    {
     "data": {
      "text/plain": [
       "[[0, 1, 2, 3, 4, 5],\n",
       " [2, 3, 4, 5, 6, 7],\n",
       " [4, 5, 6, 7, 8, 9],\n",
       " [6, 7, 8, 9, 10, 11],\n",
       " [8, 9, 10, 11, 12, 13],\n",
       " [10, 11, 12, 13, 14, 15]]"
      ]
     },
     "execution_count": 141,
     "metadata": {},
     "output_type": "execute_result"
    }
   ],
   "source": [
    "a=[[i+2*j for i in range(6)] for j in range(6)]\n",
    "a"
   ]
  },
  {
   "cell_type": "code",
   "execution_count": 146,
   "id": "ee6a503b-217c-4949-a176-0dd73eb6716d",
   "metadata": {},
   "outputs": [
    {
     "data": {
      "text/plain": [
       "[[0, 2, 4, 6, 8, 10],\n",
       " [1, 3, 5, 7, 9, 11],\n",
       " [2, 4, 6, 8, 10, 12],\n",
       " [3, 5, 7, 9, 11, 13],\n",
       " [4, 6, 8, 10, 12, 14],\n",
       " [5, 7, 9, 11, 13, 15]]"
      ]
     },
     "execution_count": 146,
     "metadata": {},
     "output_type": "execute_result"
    }
   ],
   "source": [
    "b=[[i+2*j for j in range(6)] for i in range(6)]\n",
    "b"
   ]
  },
  {
   "cell_type": "code",
   "execution_count": 149,
   "id": "fcf4afd1-bc29-4f7e-b979-339e363766b3",
   "metadata": {},
   "outputs": [
    {
     "data": {
      "text/plain": [
       "[(3, 4, 5),\n",
       " (6, 8, 10),\n",
       " (5, 12, 13),\n",
       " (9, 12, 15),\n",
       " (8, 15, 17),\n",
       " (12, 16, 20),\n",
       " (7, 24, 25),\n",
       " (15, 20, 25),\n",
       " (10, 24, 26),\n",
       " (20, 21, 29),\n",
       " (18, 24, 30),\n",
       " (16, 30, 34),\n",
       " (21, 28, 35),\n",
       " (12, 35, 37),\n",
       " (15, 36, 39),\n",
       " (24, 32, 40),\n",
       " (9, 40, 41),\n",
       " (27, 36, 45),\n",
       " (14, 48, 50),\n",
       " (30, 40, 50),\n",
       " (24, 45, 51),\n",
       " (20, 48, 52),\n",
       " (28, 45, 53),\n",
       " (33, 44, 55),\n",
       " (40, 42, 58),\n",
       " (36, 48, 60),\n",
       " (11, 60, 61),\n",
       " (16, 63, 65),\n",
       " (25, 60, 65),\n",
       " (33, 56, 65),\n",
       " (39, 52, 65),\n",
       " (32, 60, 68),\n",
       " (42, 56, 70),\n",
       " (48, 55, 73),\n",
       " (24, 70, 74),\n",
       " (21, 72, 75),\n",
       " (45, 60, 75),\n",
       " (30, 72, 78),\n",
       " (48, 64, 80),\n",
       " (18, 80, 82),\n",
       " (13, 84, 85),\n",
       " (36, 77, 85),\n",
       " (40, 75, 85),\n",
       " (51, 68, 85),\n",
       " (60, 63, 87),\n",
       " (39, 80, 89),\n",
       " (54, 72, 90),\n",
       " (35, 84, 91),\n",
       " (57, 76, 95),\n",
       " (65, 72, 97),\n",
       " (28, 96, 100),\n",
       " (60, 80, 100)]"
      ]
     },
     "execution_count": 149,
     "metadata": {},
     "output_type": "execute_result"
    }
   ],
   "source": [
    "l=100\n",
    "l1=[(a,b,c) for c in range(1,l+1) for a in range(1,c) for b in range(a,c) if c**2==a**2+b**2]\n",
    "l1"
   ]
  },
  {
   "cell_type": "code",
   "execution_count": null,
   "id": "b769c6ff-5916-48a2-a2f7-4080c3378336",
   "metadata": {},
   "outputs": [],
   "source": []
  }
 ],
 "metadata": {
  "kernelspec": {
   "display_name": "Python 3 (ipykernel)",
   "language": "python",
   "name": "python3"
  },
  "language_info": {
   "codemirror_mode": {
    "name": "ipython",
    "version": 3
   },
   "file_extension": ".py",
   "mimetype": "text/x-python",
   "name": "python",
   "nbconvert_exporter": "python",
   "pygments_lexer": "ipython3",
   "version": "3.11.7"
  }
 },
 "nbformat": 4,
 "nbformat_minor": 5
}
