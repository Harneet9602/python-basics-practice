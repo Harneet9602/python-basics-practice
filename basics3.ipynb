{
 "cells": [
  {
   "cell_type": "code",
   "execution_count": 1,
   "id": "4f6b5fe1-400b-4383-991c-7d11573b6455",
   "metadata": {},
   "outputs": [
    {
     "name": "stdin",
     "output_type": "stream",
     "text": [
      "Enter the number:  19\n"
     ]
    },
    {
     "name": "stdout",
     "output_type": "stream",
     "text": [
      "19 is Happy Number\n"
     ]
    }
   ],
   "source": [
    "#HAPPY NUMBER\n",
    "num = int(input(\"Enter the number: \"))\n",
    "num1 = num\n",
    "while num1 != 1 and num1 != 4:\n",
    "    sum_of_sq = 0\n",
    "    while num1 > 0:\n",
    "        digit = num1%10\n",
    "        sum_of_sq += digit * digit\n",
    "        num1 //= 10\n",
    "    num1 = sum_of_sq\n",
    "if num1 == 1:\n",
    "    print(f\"{num} is Happy Number\")\n",
    "else:\n",
    "    print(f\"{num} is not Happy Number\")"
   ]
  },
  {
   "cell_type": "code",
   "execution_count": null,
   "id": "c102bc88-a68d-48ee-b9ce-7d7906541d86",
   "metadata": {},
   "outputs": [],
   "source": [
    "Pseudocode for Happy number\n",
    "input: a positive integer\n",
    "output: determine whether the number is a Happy number or not\n",
    "\n",
    "Begin\n",
    "    input a number 'num'\n",
    "    set 'num1' equal to 'num'\n",
    "    while 'num1' is not equal to 1 and 'num1' is not equal to 4:\n",
    "        initialize 'sum_of_sq' to 0\n",
    "        while 'num1' is greater than 0:\n",
    "            get the last digit by calculating 'digit = num1 % 10'\n",
    "            add the square of 'digit' to 'sum_of_sq'\n",
    "            remove the last digit from 'num1' using integer division 'num1=num1//10'\n",
    "        set 'num1' to 'sum_of_sq'\n",
    "    if num1' equals 1:\n",
    "        print \"num is a happy number\"\n",
    "    else:\n",
    "        print \"num is not a happy number\"\n",
    "End"
   ]
  },
  {
   "cell_type": "markdown",
   "id": "f62dd5ec-7206-4a79-a3b1-24f6f880c6dc",
   "metadata": {},
   "source": [
    "Flowchart\n",
    "![Happy number flowchart](C:\\Users\\harne\\Downloads\\happynum.jpg)  "
   ]
  },
  {
   "cell_type": "code",
   "execution_count": 25,
   "id": "791518f9-01a8-46f5-9a86-f24e5eb625c0",
   "metadata": {},
   "outputs": [
    {
     "name": "stdin",
     "output_type": "stream",
     "text": [
      "Enter the number of asterisks to start with:  6\n"
     ]
    },
    {
     "name": "stdout",
     "output_type": "stream",
     "text": [
      "*\t*\t*\t*\t*\t*\t\n",
      "\n",
      "*\t*\t*\t*\t*\t\n",
      "\n",
      "*\t*\t*\t*\t\n",
      "\n",
      "*\t*\t*\t\n",
      "\n",
      "*\t*\t\n",
      "\n",
      "*\t\n",
      "\n",
      "*\t\n",
      "\n",
      "*\t*\t\n",
      "\n",
      "*\t*\t*\t\n",
      "\n",
      "*\t*\t*\t*\t\n",
      "\n",
      "*\t*\t*\t*\t*\t\n",
      "\n",
      "*\t*\t*\t*\t*\t*\t\n",
      "\n"
     ]
    }
   ],
   "source": [
    "#question no. 2 \n",
    "\n",
    "num_stars=int(input(\"Enter the number of asterisks to start with: \"))\n",
    "# print the decreasing order pattern\n",
    "for i in range(num_stars,0,-1):\n",
    "    for j in range(i):\n",
    "        print(\"*\",end='\\t')\n",
    "    print(\"\\n\")\n",
    "# print the increasing order pattern\n",
    "for i in range(1,num_stars+1):\n",
    "    for j in range(i):\n",
    "        print(\"*\",end=\"\\t\")\n",
    "    print(\"\\n\")"
   ]
  },
  {
   "cell_type": "code",
   "execution_count": 6,
   "id": "540c9fab-f20d-4a20-b464-5b811f0fed45",
   "metadata": {},
   "outputs": [
    {
     "name": "stdin",
     "output_type": "stream",
     "text": [
      "Enter text:  abcd1234\n"
     ]
    },
    {
     "name": "stdout",
     "output_type": "stream",
     "text": [
      "output is: dcba1234\n"
     ]
    }
   ],
   "source": [
    "#question3\n",
    "text = input(\"Enter text: \")  \n",
    "alphabets = \"\"  \n",
    "output = \"\" \n",
    "\n",
    "for char in text:   \n",
    "    if char.isalpha():  \n",
    "        alphabets = alphabets + char \n",
    "    else:  \n",
    "        output += alphabets[::-1] + char\n",
    "        alphabets = ''\n",
    "\n",
    "output += alphabets[::-1]\n",
    "\n",
    "print(\"output is:\", output)\n"
   ]
  },
  {
   "cell_type": "code",
   "execution_count": null,
   "id": "95873835-1df2-4669-80c4-11a2b4512f71",
   "metadata": {},
   "outputs": [],
   "source": []
  }
 ],
 "metadata": {
  "kernelspec": {
   "display_name": "Python 3 (ipykernel)",
   "language": "python",
   "name": "python3"
  },
  "language_info": {
   "codemirror_mode": {
    "name": "ipython",
    "version": 3
   },
   "file_extension": ".py",
   "mimetype": "text/x-python",
   "name": "python",
   "nbconvert_exporter": "python",
   "pygments_lexer": "ipython3",
   "version": "3.11.7"
  }
 },
 "nbformat": 4,
 "nbformat_minor": 5
}
